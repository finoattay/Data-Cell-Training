{
 "cells": [
  {
   "cell_type": "code",
   "execution_count": 7,
   "id": "01b0c509",
   "metadata": {},
   "outputs": [],
   "source": [
    "import time\n",
    "from selenium import webdriver\n",
    "from selenium.webdriver.common.by import By\n",
    "from selenium.webdriver.common.keys import Keys\n",
    "from selenium.webdriver.chrome.service import Service\n",
    "from selenium.webdriver.chrome.options import Options\n",
    "from webdriver_manager.chrome import ChromeDriverManager"
   ]
  },
  {
   "cell_type": "code",
   "execution_count": 8,
   "id": "8e2fbfd3",
   "metadata": {},
   "outputs": [],
   "source": [
    "# defining the webdriver and config btw this code will be almost the same in all of your selenium scripts\n",
    "options = Options()\n",
    "\n",
    "# starting in maximized window\n",
    "options.add_argument(\"start-maximized\")\n",
    "options.add_argument(\"--disable-default-apps\")"
   ]
  },
  {
   "cell_type": "code",
   "execution_count": null,
   "id": "50b0d5dd",
   "metadata": {},
   "outputs": [],
   "source": [
    "driver = webdriver.Chrome(service=Service(ChromeDriverManager().install()), options=options)"
   ]
  },
  {
   "cell_type": "code",
   "execution_count": 6,
   "id": "44203597",
   "metadata": {},
   "outputs": [],
   "source": [
    "# get the webstie\n",
    "link = \"https://www.linkedin.com\"\n",
    "driver.get(link)\n",
    "# wait for the driver to lead\n",
    "time.sleep(1) "
   ]
  },
  {
   "cell_type": "code",
   "execution_count": null,
   "id": "e2f1ab06",
   "metadata": {},
   "outputs": [],
   "source": []
  }
 ],
 "metadata": {
  "kernelspec": {
   "display_name": "Python 3 (ipykernel)",
   "language": "python",
   "name": "python3"
  },
  "language_info": {
   "codemirror_mode": {
    "name": "ipython",
    "version": 3
   },
   "file_extension": ".py",
   "mimetype": "text/x-python",
   "name": "python",
   "nbconvert_exporter": "python",
   "pygments_lexer": "ipython3",
   "version": "3.9.13"
  }
 },
 "nbformat": 4,
 "nbformat_minor": 5
}
