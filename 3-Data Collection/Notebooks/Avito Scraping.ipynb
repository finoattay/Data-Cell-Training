{
 "cells": [
  {
   "cell_type": "code",
   "execution_count": 1,
   "id": "816c83e9",
   "metadata": {},
   "outputs": [],
   "source": [
    "import time\n",
    "from selenium import webdriver\n",
    "from selenium.webdriver.common.by import By\n",
    "from selenium.webdriver.common.keys import Keys\n",
    "from selenium.webdriver.chrome.service import Service\n",
    "from webdriver_manager.chrome import ChromeDriverManager"
   ]
  },
  {
   "cell_type": "code",
   "execution_count": 2,
   "id": "9005e601",
   "metadata": {},
   "outputs": [],
   "source": [
    "driver = webdriver.Chrome(service=Service(ChromeDriverManager().install()))"
   ]
  },
  {
   "cell_type": "code",
   "execution_count": 3,
   "id": "20d69923",
   "metadata": {},
   "outputs": [],
   "source": [
    "# get the webstie\n",
    "link = \"https://www.avito.ma\"\n",
    "driver.get(link)\n",
    "# wait for the driver to lead\n",
    "time.sleep(1) "
   ]
  },
  {
   "cell_type": "code",
   "execution_count": 4,
   "id": "07670c75",
   "metadata": {},
   "outputs": [],
   "source": [
    "# find search_bar and search for laptop devices\n",
    "search_bar = driver.find_element(By.CLASS_NAME, \"sc-1i9i8oo-0\")\n",
    "search_bar.send_keys(\"laptop\")\n",
    "search_bar.send_keys(Keys.ENTER)"
   ]
  },
  {
   "cell_type": "code",
   "execution_count": 5,
   "id": "13273c69",
   "metadata": {},
   "outputs": [],
   "source": [
    "# click on the city filter\n",
    "buttons = driver.find_elements(By.CLASS_NAME, \"sc-13f8628-0\")\n",
    "city = buttons[1]\n",
    "city.click()"
   ]
  },
  {
   "cell_type": "code",
   "execution_count": 6,
   "id": "f94d7845",
   "metadata": {},
   "outputs": [],
   "source": [
    "# click on rabat\n",
    "rabat = driver.find_element(By.XPATH, \"//body/div[@id='__next']/div[1]/main[1]/div[1]/div[3]/div[1]/div[1]/form[1]/div[1]/div[1]/div[3]/div[1]/div[1]/div[1]/div[2]/div[1]/button[2]/div[1]/span[1]\")\n",
    "rabat.click()"
   ]
  },
  {
   "cell_type": "code",
   "execution_count": 7,
   "id": "286a3f84",
   "metadata": {},
   "outputs": [],
   "source": [
    "recherche = driver.find_element(By.XPATH, \"//body/div[@id='__next']/div[1]/main[1]/div[1]/div[3]/div[1]/div[1]/form[1]/div[3]/button[1]\")\n",
    "recherche.click()"
   ]
  },
  {
   "cell_type": "code",
   "execution_count": 10,
   "id": "367ed5c9",
   "metadata": {},
   "outputs": [
    {
     "name": "stdout",
     "output_type": "stream",
     "text": [
      "https://www.avito.ma/fr/autre_secteur/ordinateurs_portables/HP_PAVILLION_LAPTOP_i7_11_%C3%A9me_8GB_256_GB_NVME_50384431.htm\n"
     ]
    }
   ],
   "source": [
    "annonce = driver.find_element(By.XPATH, \"//body/div[@id='__next']/div[1]/main[1]/div[1]/div[6]/div[1]/div[1]/div[2]/div[1]/a[1]\")\n",
    "print(annonce.get_attribute(\"href\"))"
   ]
  },
  {
   "cell_type": "code",
   "execution_count": null,
   "id": "083316fc",
   "metadata": {},
   "outputs": [],
   "source": [
    "from selenium.webdriver.chrome.options import Options\n",
    "options.add_argument(\"start-maximized\")\n",
    "options.add_argument(\"--disable-default-apps\")\n",
    "#driver.execute_script(\"window.scrollTo(0, document.body.scrollHeight/.1);\")"
   ]
  }
 ],
 "metadata": {
  "kernelspec": {
   "display_name": "Python 3.11.0 64-bit",
   "language": "python",
   "name": "python3"
  },
  "language_info": {
   "codemirror_mode": {
    "name": "ipython",
    "version": 3
   },
   "file_extension": ".py",
   "mimetype": "text/x-python",
   "name": "python",
   "nbconvert_exporter": "python",
   "pygments_lexer": "ipython3",
   "version": "3.11.0"
  },
  "vscode": {
   "interpreter": {
    "hash": "5238573367df39f7286bb46f9ff5f08f63a01a80960060ce41e3c79b190280fa"
   }
  }
 },
 "nbformat": 4,
 "nbformat_minor": 5
}
